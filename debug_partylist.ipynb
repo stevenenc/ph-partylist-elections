{
 "cells": [
  {
   "cell_type": "code",
   "execution_count": 2,
   "id": "88ffb84c-a269-41c8-99c2-a29aac1c6d69",
   "metadata": {},
   "outputs": [
    {
     "name": "stdout",
     "output_type": "stream",
     "text": [
      "Found tables: 1\n",
      "Name: \n",
      "Link: None\n",
      "Other columns: ['ACT-CIS Partylist', '2,111,091', '5.74', '−3.77', '3', '0']\n",
      "---\n",
      "Name: \n",
      "Link: None\n",
      "Other columns: ['1-Rider Partylist', '1,001,243', '2.72', 'New', '2', 'New']\n",
      "---\n",
      "Name: \n",
      "Link: None\n",
      "Other columns: ['Tingog Party List', '886,959', '2.41', '+1.01', '2', '+1']\n",
      "---\n",
      "Name: \n",
      "Link: None\n",
      "Other columns: ['4Ps Party-list', '848,237', '2.30', 'New', '2', 'New']\n",
      "---\n",
      "Name: \n",
      "Link: None\n",
      "Other columns: ['Ako Bicol', '816,445', '2.22', '−1.54', '2', '0']\n",
      "---\n"
     ]
    }
   ],
   "source": [
    "import requests\n",
    "from parsel import Selector\n",
    "\n",
    "url = \"https://en.wikipedia.org/wiki/Template:2022_Philippine_House_party-list_election_results\"\n",
    "html = requests.get(url).text\n",
    "sel = Selector(text=html)\n",
    "\n",
    "tables = sel.css(\"table.wikitable\")\n",
    "print(\"Found tables:\", len(tables))\n",
    "\n",
    "# Safer print of first few rows from first table\n",
    "for row in tables[0].css(\"tr\")[1:6]:  # show first 5 data rows\n",
    "    cols = row.css(\"td\")\n",
    "    \n",
    "    # First column: party name and link (if any)\n",
    "    a_tag = cols[0].css(\"a\")\n",
    "    name = a_tag.css(\"::text\").get(default=\"\").strip() if a_tag else cols[0].css(\"::text\").get(default=\"\").strip()\n",
    "    link = a_tag.attrib.get(\"href\") if a_tag else None\n",
    "\n",
    "    # Other columns: text only\n",
    "    other_cols = [td.css(\"::text\").get(default=\"\").strip() for td in cols[1:]]\n",
    "\n",
    "    print(\"Name:\", name)\n",
    "    print(\"Link:\", f\"https://en.wikipedia.org{link}\" if link else \"None\")\n",
    "    print(\"Other columns:\", other_cols)\n",
    "    print(\"---\")\n",
    "\n"
   ]
  },
  {
   "cell_type": "code",
   "execution_count": null,
   "id": "03df65be-6a35-456a-83f9-81463ea31b05",
   "metadata": {},
   "outputs": [],
   "source": []
  }
 ],
 "metadata": {
  "kernelspec": {
   "display_name": "Python 3 (ipykernel)",
   "language": "python",
   "name": "python3"
  },
  "language_info": {
   "codemirror_mode": {
    "name": "ipython",
    "version": 3
   },
   "file_extension": ".py",
   "mimetype": "text/x-python",
   "name": "python",
   "nbconvert_exporter": "python",
   "pygments_lexer": "ipython3",
   "version": "3.12.4"
  }
 },
 "nbformat": 4,
 "nbformat_minor": 5
}
